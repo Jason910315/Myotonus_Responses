{
 "cells": [
  {
   "cell_type": "code",
   "execution_count": 222,
   "id": "8942eb1a",
   "metadata": {},
   "outputs": [
    {
     "data": {
      "text/plain": [
       "<matplotlib.legend.Legend at 0x2aa62400880>"
      ]
     },
     "execution_count": 222,
     "metadata": {},
     "output_type": "execute_result"
    },
    {
     "data": {
      "image/png": "[encoded data removed]",
      "text/plain": [
       "<Figure size 504x360 with 1 Axes>"
      ]
     },
     "metadata": {
      "needs_background": "light"
     },
     "output_type": "display_data"
    }
   ],
   "source": [
    "import pandas as pd               # 資料處理套件\n",
    "import matplotlib.pyplot as plt   \n",
    "plt.figure(figsize=(7,5))   # 顯示圖框架大小\n",
    "\n",
    "plt.style.use(\"ggplot\")     # 使用ggplot主題樣式\n",
    "plt.xlabel(\"Frequency(F)\", fontweight = \"bold\")                  #設定x座標標題及粗體\n",
    "plt.ylabel(\"Stiffness(S)\", fontweight = \"bold\")   #設定y座標標題及粗體\n",
    "plt.title(\"Scatter of F and S\",\n",
    "          fontsize = 15, fontweight = \"bold\")        #設定標題、字大小及粗體\n",
    "x=[19.61,24.7,20.66,20.89,15.66,17.04,18.06,15.54,14.74,16.02]\n",
    "y=[379.2,542.8,451.3,439,302.9,309.5,337.7,247.9,247.6,308.6]\n",
    "p1=plt.scatter(x[0:5],                    # x軸資料\n",
    "            y[0:5],     # y軸資料\n",
    "            c = \"b\",                                  # 點顏色\n",
    "            s = 65,                                   # 點大小\n",
    "            alpha = .5,                               # 透明度\n",
    "            marker = \"o\")                             # 點樣式\n",
    "\n",
    "p2=plt.scatter(x[5:10],                    # x軸資料\n",
    "            y[5:10],     # y軸資料\n",
    "            c = \"r\",                                  # 點顏色\n",
    "            s = 65,                                   # 點大小\n",
    "            alpha = .5,                               # 透明度\n",
    "            marker = \"o\")  \n",
    "\n",
    "plt.legend((p1,p2),\n",
    "           ('boy', 'girl'),\n",
    "           scatterpoints=1,\n",
    "           loc='lower right',\n",
    "           ncol=6,\n",
    "           fontsize=12)"
   ]
  },
  {
   "cell_type": "code",
   "execution_count": 223,
   "id": "8ea62f81",
   "metadata": {},
   "outputs": [],
   "source": [
    "import numpy as np  # 科学计算工具包\n",
    "import pandas as pd  # 数据分析工具包\n",
    "import matplotlib.pyplot as plt # 图表绘制工具包\n",
    "import seaborn as sns # 基于 matplot, 导入 seaborn 会修改默认的 matplotlib 配色方案和绘图样式，这会提高图表的可读性和美观性\n",
    "import os\n",
    "from scipy import stats\n",
    "from scipy.stats import norm, skew \n",
    "from sklearn.linear_model import LinearRegression\n",
    "import glob\n",
    "from sklearn import metrics\n",
    "from sklearn.model_selection import train_test_split\n",
    "from sklearn.preprocessing import MinMaxScaler\n",
    "from sklearn.metrics import r2_score\n",
    "plt.rc(\"font\",family=\"SimHei\",size=\"15\")  #解决中文乱码问题\n",
    "\n",
    "# 在 jupyter notebook 里面显示图表\n",
    "%matplotlib inline \n"
   ]
  },
  {
   "cell_type": "code",
   "execution_count": 224,
   "id": "ff9971f1",
   "metadata": {
    "scrolled": true
   },
   "outputs": [
    {
     "data": {
      "text/plain": [
       "10"
      ]
     },
     "execution_count": 224,
     "metadata": {},
     "output_type": "execute_result"
    }
   ],
   "source": [
    "path = \"C:/小腿F\"\n",
    "# 路徑(大資料夾，底下放所有聲檔的聲學參數，每個人都存一個CSV檔，檔名為小腿肌力測試1 or2 or3.....csv)\n",
    "files_joined = os.path.join(\"C:/小腿F\", \"小腿肌力測試*.csv\")\n",
    "\n",
    "# 記錄所有檔名(list)\n",
    "list_files = glob.glob(files_joined)\n",
    "len(list_files)"
   ]
  },
  {
   "cell_type": "markdown",
   "id": "04e10744",
   "metadata": {},
   "source": [
    "### 資料儲存"
   ]
  },
  {
   "cell_type": "code",
   "execution_count": 225,
   "id": "94a5fb54",
   "metadata": {
    "scrolled": true
   },
   "outputs": [],
   "source": [
    "train_df = pd.DataFrame(columns=['Model name','dataset','MSE','RMSE','MAE','MAPE','R-squared'])\n",
    "test_df = pd.DataFrame(columns=['Model name','dataset','MSE','RMSE','MAE','MAPE','R-squared'])"
   ]
  },
  {
   "cell_type": "code",
   "execution_count": 226,
   "id": "28728c39",
   "metadata": {
    "scrolled": true
   },
   "outputs": [],
   "source": [
    "#from sklearn.model_selection import train_test_split\n",
    "#train_data, test_data =train_test_split(data, train_size=0.8)"
   ]
  },
  {
   "cell_type": "markdown",
   "id": "f189c8e7",
   "metadata": {},
   "source": [
    "### 資料分割"
   ]
  },
  {
   "cell_type": "code",
   "execution_count": 227,
   "id": "c11a52a6",
   "metadata": {
    "scrolled": true
   },
   "outputs": [],
   "source": [
    "#建立空dataframe 儲存切割後資料\n",
    "train_data =  pd.DataFrame()\n",
    "test_data = pd.DataFrame()"
   ]
  },
  {
   "cell_type": "code",
   "execution_count": 228,
   "id": "bd13fd26",
   "metadata": {
    "scrolled": true
   },
   "outputs": [],
   "source": [
    "#將每個cross correlation後資料先行80/20 避免資料不平衡\n",
    "from sklearn.preprocessing import MinMaxScaler\n",
    "for i in range (0,len(list_files)):\n",
    "    data = pd.read_csv(list_files[i])\n",
    "    train, test =train_test_split(data, train_size=0.8)\n",
    "    global train_data\n",
    "    global test_data\n",
    "    train_data = pd.concat([train_data,train],axis=0, ignore_index=True)\n",
    "    test_data = pd.concat([test_data,test],axis=0, ignore_index=True)"
   ]
  },
  {
   "cell_type": "code",
   "execution_count": 229,
   "id": "234b33fc",
   "metadata": {
    "scrolled": true
   },
   "outputs": [],
   "source": [
    "#train_data = pd.DataFrame(train_data)\n",
    "#test_data = pd.DataFrame(test_data)"
   ]
  },
  {
   "cell_type": "code",
   "execution_count": 230,
   "id": "41d8a8ef",
   "metadata": {
    "scrolled": true
   },
   "outputs": [],
   "source": [
    "#欄位名稱\n",
    "#非物理特徵\n",
    "#fn = ['meanfreq','sd','freq.median','freq.Q25','freq.Q75','freq.IQR','time.median','time.Q25','time.Q75','time.IQR','skew','kurt','sp.ent','time.ent','entropy','sfm','meandom','mindom','maxdom','dfrange','modindx','startdom','enddom','dfslope','meanpeakf']\n",
    "#物理特徵\n",
    "fn=['meanfreq','sd', 'freq.median', 'freq.Q25',\n",
    "       'freq.Q75', 'freq.IQR', 'time.median', 'time.Q25', 'time.Q75', 'time.IQR',\n",
    "       'skew', 'kurt', 'sp.ent', 'time.ent', 'entropy', 'sfm', 'meandom',\n",
    "       'mindom', 'maxdom', 'dfrange', 'modindx', 'startdom', 'enddom',\n",
    "       'dfslope', 'meanpeakf']\n",
    "\n",
    "#fn = ['# pitch','mfcc1','mfcc2','mfcc3','mfcc4','mfcc5','mfcc6','mfcc7','mfcc8','mfcc9','mfcc10','mfcc11','mfcc12','zero_cross','p1','p2','p3','p4']"
   ]
  },
  {
   "cell_type": "code",
   "execution_count": 231,
   "id": "42101a0b",
   "metadata": {},
   "outputs": [],
   "source": [
    "#原始數據\n",
    "from sklearn.preprocessing import MinMaxScaler\n",
    "from sklearn.decomposition import PCA\n",
    "\n",
    "train_X = train_data[fn]\n",
    "\n",
    "\n",
    "train_y = train_data['sound.files']\n",
    "\n",
    "\n",
    "test_X = test_data[fn]\n",
    "\n",
    "test_y = test_data['sound.files']\n"
   ]
  },
  {
   "cell_type": "code",
   "execution_count": 232,
   "id": "acb68f0d",
   "metadata": {},
   "outputs": [],
   "source": [
    "def train_result(pred,name):\n",
    "    x=train_y.values\n",
    "    y=pred\n",
    "    my_rho = np.corrcoef(x,y)\n",
    "    print(\"Pearson關係數:\",my_rho)"
   ]
  },
  {
   "cell_type": "code",
   "execution_count": 233,
   "id": "49434e6d",
   "metadata": {},
   "outputs": [],
   "source": [
    "def test_result(pred,name):\n",
    "    x=test_y.values\n",
    "    y=pred\n",
    "    my_rho = np.corrcoef(x,y)\n",
    "    print(\"Pearson關係數:\",my_rho)"
   ]
  },
  {
   "cell_type": "markdown",
   "id": "861b557f",
   "metadata": {},
   "source": [
    "### 回歸圖"
   ]
  },
  {
   "cell_type": "code",
   "execution_count": 234,
   "id": "30a00fda",
   "metadata": {
    "scrolled": true
   },
   "outputs": [],
   "source": [
    "if not os.path.isdir(path+'\\\\百分比\\\\迴歸圖(1s)'):\n",
    "    os.makedirs(path+'\\\\百分比\\\\迴歸圖(1s)')"
   ]
  },
  {
   "cell_type": "code",
   "execution_count": 235,
   "id": "982b8e58",
   "metadata": {
    "scrolled": true
   },
   "outputs": [],
   "source": [
    "#未平均\n",
    "def train_plot(pre,name):\n",
    "    plt.title(name+\" Train\")\n",
    "    plt.scatter(pre, train_y,c='c')\n",
    "    plt.xlabel('predict')\n",
    "    plt.ylabel('true value')\n",
    "    plt.axis([min(train_y), max(train_y)+0.2, min(train_y), max(train_y)+0.2])\n",
    "    plt.savefig(path+'\\\\百分比\\\\迴歸圖(1s)\\\\'+name+'train.png')\n",
    "    plt.show()"
   ]
  },
  {
   "cell_type": "code",
   "execution_count": 236,
   "id": "64dfdc4b",
   "metadata": {
    "scrolled": true
   },
   "outputs": [],
   "source": [
    "#未平均\n",
    "def test_plot(pre,name):\n",
    "    plt.title(name+\" Test\")\n",
    "    plt.scatter(pre, test_y,c='c')\n",
    "    plt.xlabel('predict')\n",
    "    plt.ylabel('true value')\n",
    "    plt.axis([min(test_y), max(test_y)+0.2, min(test_y), max(test_y)+0.2])\n",
    "    plt.savefig(path+'\\\\百分比\\\\迴歸圖(1s)\\\\'+name+'test.png')\n",
    "    plt.show()"
   ]
  },
  {
   "cell_type": "code",
   "execution_count": 237,
   "id": "8581196d",
   "metadata": {},
   "outputs": [
    {
     "data": {
      "text/plain": [
       "array([[0.        ],\n",
       "       [0.59437751],\n",
       "       [0.61746988],\n",
       "       [0.23092369],\n",
       "       [0.12851406],\n",
       "       [0.09236948],\n",
       "       [0.48895582],\n",
       "       [0.33333333],\n",
       "       [0.08032129],\n",
       "       [1.        ]])"
      ]
     },
     "execution_count": 237,
     "metadata": {},
     "output_type": "execute_result"
    }
   ],
   "source": [
    "from sklearn.preprocessing import MinMaxScaler\n",
    "true_array = [14.74,20.66,20.89,17.04,16.02,15.66,19.61,18.06,15.54,24.7]\n",
    "\n",
    "\n",
    "true_df = pd.DataFrame(true_array)\n",
    "\n",
    "Standard_data=MinMaxScaler().fit_transform(true_df)\n",
    "\n",
    "\n",
    "Standard_data\n"
   ]
  },
  {
   "cell_type": "code",
   "execution_count": 238,
   "id": "bcc28ad5",
   "metadata": {
    "scrolled": true
   },
   "outputs": [],
   "source": [
    "def average_train_plot(pre,name):\n",
    "    true_array = [19.61,24.7,20.66,20.89,15.66,17.04,18.06,15.54,14.74,16.02]\n",
    "    #true_array = [0.49,1,0.59,0.62,0.09,0.23,0.33,0.08,0,0.13]\n",
    " \n",
    "\n",
    "    true_df = pd.DataFrame(true_array)\n",
    "\n",
    "    average =  pd.DataFrame()\n",
    "\n",
    "\n",
    "    for i in range(0,10):\n",
    "        #print(i)\n",
    "        index1 = i*160\n",
    "        index2 = index1+160\n",
    "        a = pre[index1:index2]\n",
    "        k = a.mean()\n",
    "        k = [k]\n",
    "        k = pd.DataFrame(k)\n",
    "        average = pd.concat([average,k],axis=0, ignore_index=True)\n",
    "   \n",
    "    plt.title(name+\" Train\")\n",
    "    plt.scatter(average[0:5], true_df[0:5],c='b',alpha = .5)\n",
    "    plt.scatter(average[5:10], true_df[5:10],c='r',alpha = .5)\n",
    "    plt.xlabel('predict')\n",
    "    plt.ylabel('true value')\n",
    "    plt.axis([min(train_y), max(train_y)+0.2, min(train_y), max(train_y)+0.2])\n",
    "    plt.legend((p1,p2),\n",
    "           ('boy', 'girl'),\n",
    "           scatterpoints=1,\n",
    "           loc='lower right',\n",
    "           ncol=5,\n",
    "           fontsize=10)\n",
    "    plt.savefig(path+'\\\\百分比\\\\迴歸圖(1s)\\\\'+name+'train(平均).png')\n",
    "    plt.show()\n",
    "    \n",
    "       \n",
    "    average=average.values\n",
    "    true_df=true_df.values\n",
    "    print(average)\n",
    "    print(true_df)\n",
    "    \n",
    "    Regression = sum((average - np.mean(true_df))**2) # 回归平方和\n",
    "    Residual   = sum((true_df - average)**2)         # 残差平方和    \n",
    "    abs_reg=sum(abs(true_df - average))  \n",
    "\n",
    "    \n",
    "    mse =  Residual /10\n",
    "    rmse = mse**0.5\n",
    "    mae = abs_reg/10\n",
    "    mape =(sum(((true_df - average)**2)/true_df))/10\n",
    "    \n",
    "\n",
    "    total = sum((true_df-np.mean(true_df))**2) #总体平方和\n",
    "    R_square   =  1-Residual / total # 相关性系数R^2\n",
    "\n",
    "    \n",
    "    df = pd.DataFrame({\n",
    "    'Model name': name,\n",
    "    'dataset':'train',\n",
    "    'MSE': np.round(mse,2),\n",
    "    'RMSE':np.round(rmse,2),\n",
    "    'MAE':np.round(mae,2),\n",
    "    'MAPE':np.round(mape,2),\n",
    "    'R-squared': np.round(R_square,2)},index=[0])\n",
    "    global train_df\n",
    "    train_df = pd.concat([train_df,df],axis=0, ignore_index=True)\n",
    "    return train_df"
   ]
  },
  {
   "cell_type": "code",
   "execution_count": 239,
   "id": "78adce1f",
   "metadata": {
    "scrolled": true
   },
   "outputs": [],
   "source": [
    "def average_test_plot(pre,name):\n",
    "    \n",
    "    #true_array =  [0.49,1,0.59,0.62,0.09,0.23,0.33,0.08,0,0.13]\n",
    "    true_array = [19.61,24.7,20.66,20.89,15.66,17.04,18.06,15.54,14.74,16.02]\n",
    "                  \n",
    "               \n",
    "    average =  pd.DataFrame()\n",
    "    true_df = pd.DataFrame(true_array)\n",
    "  \n",
    "    for i in range(0,10):\n",
    "        #print(i)\n",
    "        index1 = i*40\n",
    "        index2 = index1+40\n",
    "        a = pre[index1:index2]\n",
    "        k = a.mean()\n",
    "        k = [k]\n",
    "        k = pd.DataFrame(k)\n",
    "        average = pd.concat([average,k],axis=0, ignore_index=True)\n",
    "      \n",
    "    \n",
    "    plt.title(name+\" Test\")\n",
    "    plt.scatter(average[0:5], true_df[0:5],c='b',alpha = .5)\n",
    "    plt.scatter(average[5:10], true_df[5:10],c='r',alpha = .5)\n",
    "    plt.xlabel('predict')\n",
    "    plt.ylabel('true value')\n",
    "    plt.axis([min(test_y), max(test_y)+0.2, min(test_y), max(test_y)+0.2])\n",
    "    plt.legend((p1,p2),\n",
    "           ('boy', 'girl'),\n",
    "           scatterpoints=1,\n",
    "           loc='lower right',\n",
    "           ncol=5,\n",
    "           fontsize=10)\n",
    "    plt.savefig(path+'\\\\百分比\\\\迴歸圖(1s)\\\\'+name+'test(平均).png')\n",
    "    plt.show()\n",
    "    \n",
    "    \n",
    "    average=average.values\n",
    "    true_df=true_df.values\n",
    "    print(average)\n",
    "    print(true_df)\n",
    "        \n",
    "    Regression = sum((average - np.mean(true_df))**2) # 回归平方和\n",
    "    Residual   = sum((true_df - average)**2)         # 残差平方和    \n",
    "    abs_reg=sum(abs(true_df - average))  \n",
    "\n",
    "    mse =  Residual /10\n",
    "    rmse = mse**0.5\n",
    "    mae = abs_reg/10\n",
    "    mape =(sum(((true_df - average)**2)/true_df))/10\n",
    "    \n",
    "\n",
    "    Residual   = sum((true_df - average)**2)          # 残差平方和\n",
    "    total = sum((true_df-np.mean(true_df))**2) #总体平方和\n",
    "    R_square   =  1-Residual / total  # 相关性系数R^2\n",
    "\n",
    "    \n",
    "    df = pd.DataFrame({\n",
    "    'Model name': name,\n",
    "    'dataset':'test',\n",
    "    'MSE': np.round(mse,2),\n",
    "    'RMSE':np.round(rmse,2),\n",
    "    'MAE':np.round(mae,2),\n",
    "    'MAPE':np.round(mape,2),\n",
    "     'R-squared': np.round(R_square,2)},index=[0])\n",
    "    \n",
    "    global test_df\n",
    "    test_df = pd.concat([test_df,df],axis=0, ignore_index=True)\n",
    "    return test_df"
   ]
  },
  {
   "cell_type": "code",
   "execution_count": 240,
   "id": "aeffee02",
   "metadata": {},
   "outputs": [],
   "source": [
    "def average_corr(pre):\n",
    "    average =  pd.DataFrame()\n",
    "    for i in range(0,7):\n",
    "        #print(i)\n",
    "        index1 = i*20\n",
    "        index2 = index1+20\n",
    "        a = pre[index1:index2]\n",
    "        k = a.mean()\n",
    "        k = [k]\n",
    "        k = pd.DataFrame(k)\n",
    "        average = pd.concat([average,k],axis=0, ignore_index=True)\n",
    "    x=average.values\n",
    "    y=true_df.values\n",
    "    x=x.flatten()\n",
    "    y=y.flatten()\n",
    "    \n",
    "    my_rho = np.corrcoef(x,y)\n",
    "\n",
    "    print(\"Pearson相關係數:\\n\",my_rho)"
   ]
  },
  {
   "cell_type": "code",
   "execution_count": 241,
   "id": "4aef13b2",
   "metadata": {
    "scrolled": true
   },
   "outputs": [
    {
     "name": "stdout",
     "output_type": "stream",
     "text": [
      "(1600, 25)\n",
      "(1600,)\n",
      "(400, 25)\n",
      "(400,)\n"
     ]
    }
   ],
   "source": [
    "print(train_X.shape)\n",
    "print(train_y.shape)\n",
    "\n",
    "print(test_X.shape)\n",
    "print(test_y.shape)\n"
   ]
  },
  {
   "cell_type": "markdown",
   "id": "fce85425",
   "metadata": {},
   "source": [
    "### Model"
   ]
  },
  {
   "cell_type": "markdown",
   "id": "e328de87",
   "metadata": {},
   "source": [
    "### SVR (RBF)"
   ]
  },
  {
   "cell_type": "code",
   "execution_count": 272,
   "id": "74924bec",
   "metadata": {
    "scrolled": true
   },
   "outputs": [
    {
     "name": "stdout",
     "output_type": "stream",
     "text": [
      "[   -3.12356277 -1323.72543656   -15.17167649    -5.31829788\n",
      "   -47.69627195]\n"
     ]
    }
   ],
   "source": [
    "from sklearn.svm import SVR\n",
    "from sklearn.model_selection import cross_val_score\n",
    "\n",
    "svr_rbf = SVR(kernel=\"rbf\", C=250, gamma=0.1)\n",
    "svr_rbf.fit(train_X, train_y)\n",
    "\n",
    "RBF_predict_train = svr_rbf.predict(train_X) \n",
    "RBF_predict_test = svr_rbf.predict(test_X) \n",
    "\n",
    "\n",
    "\n",
    "\n"
   ]
  },
  {
   "cell_type": "code",
   "execution_count": 243,
   "id": "d6dfc6ae",
   "metadata": {},
   "outputs": [
    {
     "name": "stdout",
     "output_type": "stream",
     "text": [
      "Pearson關係數: [[1.         0.99377619]\n",
      " [0.99377619 1.        ]]\n"
     ]
    }
   ],
   "source": [
    "train_result(RBF_predict_train,\"SVR(RBF)\")"
   ]
  },
  {
   "cell_type": "code",
   "execution_count": 244,
   "id": "7e780c74",
   "metadata": {
    "scrolled": true
   },
   "outputs": [
    {
     "name": "stdout",
     "output_type": "stream",
     "text": [
      "Pearson關係數: [[1.         0.73980569]\n",
      " [0.73980569 1.        ]]\n"
     ]
    }
   ],
   "source": [
    "test_result(RBF_predict_test,\"SVR (RBF)\")"
   ]
  },
  {
   "cell_type": "code",
   "execution_count": 245,
   "id": "159c2304",
   "metadata": {
    "scrolled": false
   },
   "outputs": [
    {
     "data": {
      "image/png": "[encoded data removed]",
      "text/plain": [
       "<Figure size 432x288 with 1 Axes>"
      ]
     },
     "metadata": {
      "needs_background": "light"
     },
     "output_type": "display_data"
    },
    {
     "data": {
      "image/png": "[encoded data removed]",
      "text/plain": [
       "<Figure size 432x288 with 1 Axes>"
      ]
     },
     "metadata": {
      "needs_background": "light"
     },
     "output_type": "display_data"
    }
   ],
   "source": [
    "train_plot(RBF_predict_train,\"SVR (RBF)\")\n",
    "test_plot(RBF_predict_test,\"SVR (RBF)\")"
   ]
  },
  {
   "cell_type": "code",
   "execution_count": 246,
   "id": "75b7f7b1",
   "metadata": {
    "scrolled": false
   },
   "outputs": [
    {
     "data": {
      "image/png": "[encoded data removed]",
      "text/plain": [
       "<Figure size 432x288 with 1 Axes>"
      ]
     },
     "metadata": {
      "needs_background": "light"
     },
     "output_type": "display_data"
    },
    {
     "name": "stdout",
     "output_type": "stream",
     "text": [
      "[[19.53301844]\n",
      " [24.67079495]\n",
      " [20.52681501]\n",
      " [20.66929835]\n",
      " [15.71439333]\n",
      " [17.06194225]\n",
      " [18.04674793]\n",
      " [15.81563216]\n",
      " [14.79576967]\n",
      " [16.07687774]]\n",
      "[[19.61]\n",
      " [24.7 ]\n",
      " [20.66]\n",
      " [20.89]\n",
      " [15.66]\n",
      " [17.04]\n",
      " [18.06]\n",
      " [15.54]\n",
      " [14.74]\n",
      " [16.02]]\n"
     ]
    },
    {
     "data": {
      "text/html": [
       "<div>\n",
       "<style scoped>\n",
       "    .dataframe tbody tr th:only-of-type {\n",
       "        vertical-align: middle;\n",
       "    }\n",
       "\n",
       "    .dataframe tbody tr th {\n",
       "        vertical-align: top;\n",
       "    }\n",
       "\n",
       "    .dataframe thead th {\n",
       "        text-align: right;\n",
       "    }\n",
       "</style>\n",
       "<table border=\"1\" class=\"dataframe\">\n",
       "  <thead>\n",
       "    <tr style=\"text-align: right;\">\n",
       "      <th></th>\n",
       "      <th>Model name</th>\n",
       "      <th>dataset</th>\n",
       "      <th>MSE</th>\n",
       "      <th>RMSE</th>\n",
       "      <th>MAE</th>\n",
       "      <th>MAPE</th>\n",
       "      <th>R-squared</th>\n",
       "    </tr>\n",
       "  </thead>\n",
       "  <tbody>\n",
       "    <tr>\n",
       "      <th>0</th>\n",
       "      <td>SVR (RBF)</td>\n",
       "      <td>train</td>\n",
       "      <td>0.02</td>\n",
       "      <td>0.13</td>\n",
       "      <td>0.09</td>\n",
       "      <td>0.0</td>\n",
       "      <td>1.0</td>\n",
       "    </tr>\n",
       "  </tbody>\n",
       "</table>\n",
       "</div>"
      ],
      "text/plain": [
       "  Model name dataset   MSE  RMSE   MAE MAPE R-squared\n",
       "0  SVR (RBF)   train  0.02  0.13  0.09  0.0       1.0"
      ]
     },
     "execution_count": 246,
     "metadata": {},
     "output_type": "execute_result"
    }
   ],
   "source": [
    "average_train_plot(RBF_predict_train,\"SVR (RBF)\")\n"
   ]
  },
  {
   "cell_type": "code",
   "execution_count": 247,
   "id": "04744e5f",
   "metadata": {
    "scrolled": false
   },
   "outputs": [
    {
     "data": {
      "image/png": "[encoded data removed]",
      "text/plain": [
       "<Figure size 432x288 with 1 Axes>"
      ]
     },
     "metadata": {
      "needs_background": "light"
     },
     "output_type": "display_data"
    },
    {
     "name": "stdout",
     "output_type": "stream",
     "text": [
      "[[18.75793824]\n",
      " [23.34751985]\n",
      " [20.45210377]\n",
      " [18.90498214]\n",
      " [16.95525652]\n",
      " [17.17116673]\n",
      " [17.93583671]\n",
      " [17.08300334]\n",
      " [16.26659921]\n",
      " [16.73413369]]\n",
      "[[19.61]\n",
      " [24.7 ]\n",
      " [20.66]\n",
      " [20.89]\n",
      " [15.66]\n",
      " [17.04]\n",
      " [18.06]\n",
      " [15.54]\n",
      " [14.74]\n",
      " [16.02]]\n"
     ]
    },
    {
     "data": {
      "text/html": [
       "<div>\n",
       "<style scoped>\n",
       "    .dataframe tbody tr th:only-of-type {\n",
       "        vertical-align: middle;\n",
       "    }\n",
       "\n",
       "    .dataframe tbody tr th {\n",
       "        vertical-align: top;\n",
       "    }\n",
       "\n",
       "    .dataframe thead th {\n",
       "        text-align: right;\n",
       "    }\n",
       "</style>\n",
       "<table border=\"1\" class=\"dataframe\">\n",
       "  <thead>\n",
       "    <tr style=\"text-align: right;\">\n",
       "      <th></th>\n",
       "      <th>Model name</th>\n",
       "      <th>dataset</th>\n",
       "      <th>MSE</th>\n",
       "      <th>RMSE</th>\n",
       "      <th>MAE</th>\n",
       "      <th>MAPE</th>\n",
       "      <th>R-squared</th>\n",
       "    </tr>\n",
       "  </thead>\n",
       "  <tbody>\n",
       "    <tr>\n",
       "      <th>0</th>\n",
       "      <td>SVR (RBF)</td>\n",
       "      <td>test</td>\n",
       "      <td>1.35</td>\n",
       "      <td>1.16</td>\n",
       "      <td>0.97</td>\n",
       "      <td>0.08</td>\n",
       "      <td>0.85</td>\n",
       "    </tr>\n",
       "  </tbody>\n",
       "</table>\n",
       "</div>"
      ],
      "text/plain": [
       "  Model name dataset   MSE  RMSE   MAE  MAPE R-squared\n",
       "0  SVR (RBF)    test  1.35  1.16  0.97  0.08      0.85"
      ]
     },
     "execution_count": 247,
     "metadata": {},
     "output_type": "execute_result"
    }
   ],
   "source": [
    "average_test_plot(RBF_predict_test,\"SVR (RBF)\")"
   ]
  },
  {
   "cell_type": "code",
   "execution_count": 248,
   "id": "cd532d35",
   "metadata": {},
   "outputs": [
    {
     "name": "stderr",
     "output_type": "stream",
     "text": [
      "C:\\Users\\a0938\\anaconda3\\lib\\site-packages\\sklearn\\neural_network\\_multilayer_perceptron.py:549: ConvergenceWarning: lbfgs failed to converge (status=1):\n",
      "STOP: TOTAL NO. of ITERATIONS REACHED LIMIT.\n",
      "\n",
      "Increase the number of iterations (max_iter) or scale the data as shown in:\n",
      "    https://scikit-learn.org/stable/modules/preprocessing.html\n",
      "  self.n_iter_ = _check_optimize_result(\"lbfgs\", opt_res, self.max_iter)\n"
     ]
    }
   ],
   "source": [
    "from sklearn import neural_network\n",
    "regr = neural_network.MLPRegressor(hidden_layer_sizes=(100,100), activation=\"relu\",\n",
    "                 solver='lbfgs', alpha=0.0001,\n",
    "                 batch_size=10, learning_rate=\"adaptive\",\n",
    "                 learning_rate_init=0.0001,\n",
    "                 power_t=0.5, max_iter=1000,tol=1e-4)\n",
    "regr.fit(train_X, train_y)\n",
    "\n",
    "MLP_predict_train = regr.predict(train_X) \n",
    "MLP_predict_test = regr.predict(test_X) "
   ]
  },
  {
   "cell_type": "code",
   "execution_count": 249,
   "id": "bc0c55f1",
   "metadata": {},
   "outputs": [
    {
     "name": "stdout",
     "output_type": "stream",
     "text": [
      "Pearson關係數: [[1.         0.81828557]\n",
      " [0.81828557 1.        ]]\n"
     ]
    }
   ],
   "source": [
    "train_result(MLP_predict_train,\"MLP\")"
   ]
  },
  {
   "cell_type": "code",
   "execution_count": 250,
   "id": "c870d139",
   "metadata": {},
   "outputs": [
    {
     "name": "stdout",
     "output_type": "stream",
     "text": [
      "Pearson關係數: [[1.         0.78466613]\n",
      " [0.78466613 1.        ]]\n"
     ]
    }
   ],
   "source": [
    "test_result(MLP_predict_test,\"MLP\")"
   ]
  },
  {
   "cell_type": "code",
   "execution_count": 251,
   "id": "8c6ef34b",
   "metadata": {},
   "outputs": [
    {
     "data": {
      "image/png": "[encoded data removed]",
      "text/plain": [
       "<Figure size 432x288 with 1 Axes>"
      ]
     },
     "metadata": {
      "needs_background": "light"
     },
     "output_type": "display_data"
    },
    {
     "data": {
      "image/png": "[encoded data removed]",
      "text/plain": [
       "<Figure size 432x288 with 1 Axes>"
      ]
     },
     "metadata": {
      "needs_background": "light"
     },
     "output_type": "display_data"
    }
   ],
   "source": [
    "train_plot(MLP_predict_train,\"MLP\")\n",
    "test_plot(MLP_predict_test,\"MLP\")"
   ]
  },
  {
   "cell_type": "code",
   "execution_count": 252,
   "id": "66d4a576",
   "metadata": {},
   "outputs": [
    {
     "data": {
      "image/png": "[encoded data removed]",
      "text/plain": [
       "<Figure size 432x288 with 1 Axes>"
      ]
     },
     "metadata": {
      "needs_background": "light"
     },
     "output_type": "display_data"
    },
    {
     "name": "stdout",
     "output_type": "stream",
     "text": [
      "[[18.465531  ]\n",
      " [23.94481695]\n",
      " [19.7218459 ]\n",
      " [18.60184226]\n",
      " [16.80662302]\n",
      " [17.07315882]\n",
      " [18.02142144]\n",
      " [17.59248961]\n",
      " [15.72451106]\n",
      " [17.00587531]]\n",
      "[[19.61]\n",
      " [24.7 ]\n",
      " [20.66]\n",
      " [20.89]\n",
      " [15.66]\n",
      " [17.04]\n",
      " [18.06]\n",
      " [15.54]\n",
      " [14.74]\n",
      " [16.02]]\n"
     ]
    },
    {
     "data": {
      "text/html": [
       "<div>\n",
       "<style scoped>\n",
       "    .dataframe tbody tr th:only-of-type {\n",
       "        vertical-align: middle;\n",
       "    }\n",
       "\n",
       "    .dataframe tbody tr th {\n",
       "        vertical-align: top;\n",
       "    }\n",
       "\n",
       "    .dataframe thead th {\n",
       "        text-align: right;\n",
       "    }\n",
       "</style>\n",
       "<table border=\"1\" class=\"dataframe\">\n",
       "  <thead>\n",
       "    <tr style=\"text-align: right;\">\n",
       "      <th></th>\n",
       "      <th>Model name</th>\n",
       "      <th>dataset</th>\n",
       "      <th>MSE</th>\n",
       "      <th>RMSE</th>\n",
       "      <th>MAE</th>\n",
       "      <th>MAPE</th>\n",
       "      <th>R-squared</th>\n",
       "    </tr>\n",
       "  </thead>\n",
       "  <tbody>\n",
       "    <tr>\n",
       "      <th>0</th>\n",
       "      <td>SVR (RBF)</td>\n",
       "      <td>train</td>\n",
       "      <td>0.02</td>\n",
       "      <td>0.13</td>\n",
       "      <td>0.09</td>\n",
       "      <td>0.0</td>\n",
       "      <td>1.0</td>\n",
       "    </tr>\n",
       "    <tr>\n",
       "      <th>1</th>\n",
       "      <td>MLP</td>\n",
       "      <td>train</td>\n",
       "      <td>1.55</td>\n",
       "      <td>1.24</td>\n",
       "      <td>1.04</td>\n",
       "      <td>0.09</td>\n",
       "      <td>0.83</td>\n",
       "    </tr>\n",
       "  </tbody>\n",
       "</table>\n",
       "</div>"
      ],
      "text/plain": [
       "  Model name dataset   MSE  RMSE   MAE  MAPE R-squared\n",
       "0  SVR (RBF)   train  0.02  0.13  0.09   0.0       1.0\n",
       "1        MLP   train  1.55  1.24  1.04  0.09      0.83"
      ]
     },
     "execution_count": 252,
     "metadata": {},
     "output_type": "execute_result"
    }
   ],
   "source": [
    "average_train_plot(MLP_predict_train,\"MLP\")"
   ]
  },
  {
   "cell_type": "code",
   "execution_count": 253,
   "id": "629598e9",
   "metadata": {},
   "outputs": [
    {
     "data": {
      "image/png": "[encoded data removed]",
      "text/plain": [
       "<Figure size 432x288 with 1 Axes>"
      ]
     },
     "metadata": {
      "needs_background": "light"
     },
     "output_type": "display_data"
    },
    {
     "name": "stdout",
     "output_type": "stream",
     "text": [
      "[[18.3949211 ]\n",
      " [22.99393769]\n",
      " [20.26658558]\n",
      " [18.35307039]\n",
      " [16.66149583]\n",
      " [17.00375893]\n",
      " [17.9350952 ]\n",
      " [17.66032415]\n",
      " [15.50922772]\n",
      " [16.99930034]]\n",
      "[[19.61]\n",
      " [24.7 ]\n",
      " [20.66]\n",
      " [20.89]\n",
      " [15.66]\n",
      " [17.04]\n",
      " [18.06]\n",
      " [15.54]\n",
      " [14.74]\n",
      " [16.02]]\n"
     ]
    },
    {
     "data": {
      "text/html": [
       "<div>\n",
       "<style scoped>\n",
       "    .dataframe tbody tr th:only-of-type {\n",
       "        vertical-align: middle;\n",
       "    }\n",
       "\n",
       "    .dataframe tbody tr th {\n",
       "        vertical-align: top;\n",
       "    }\n",
       "\n",
       "    .dataframe thead th {\n",
       "        text-align: right;\n",
       "    }\n",
       "</style>\n",
       "<table border=\"1\" class=\"dataframe\">\n",
       "  <thead>\n",
       "    <tr style=\"text-align: right;\">\n",
       "      <th></th>\n",
       "      <th>Model name</th>\n",
       "      <th>dataset</th>\n",
       "      <th>MSE</th>\n",
       "      <th>RMSE</th>\n",
       "      <th>MAE</th>\n",
       "      <th>MAPE</th>\n",
       "      <th>R-squared</th>\n",
       "    </tr>\n",
       "  </thead>\n",
       "  <tbody>\n",
       "    <tr>\n",
       "      <th>0</th>\n",
       "      <td>SVR (RBF)</td>\n",
       "      <td>test</td>\n",
       "      <td>1.35</td>\n",
       "      <td>1.16</td>\n",
       "      <td>0.97</td>\n",
       "      <td>0.08</td>\n",
       "      <td>0.85</td>\n",
       "    </tr>\n",
       "    <tr>\n",
       "      <th>1</th>\n",
       "      <td>MLP</td>\n",
       "      <td>test</td>\n",
       "      <td>1.8</td>\n",
       "      <td>1.34</td>\n",
       "      <td>1.09</td>\n",
       "      <td>0.1</td>\n",
       "      <td>0.8</td>\n",
       "    </tr>\n",
       "  </tbody>\n",
       "</table>\n",
       "</div>"
      ],
      "text/plain": [
       "  Model name dataset   MSE  RMSE   MAE  MAPE R-squared\n",
       "0  SVR (RBF)    test  1.35  1.16  0.97  0.08      0.85\n",
       "1        MLP    test   1.8  1.34  1.09   0.1       0.8"
      ]
     },
     "execution_count": 253,
     "metadata": {},
     "output_type": "execute_result"
    }
   ],
   "source": [
    "average_test_plot(MLP_predict_test,\"MLP\")"
   ]
  },
  {
   "cell_type": "code",
   "execution_count": 254,
   "id": "46bf4e9c",
   "metadata": {
    "scrolled": true
   },
   "outputs": [],
   "source": [
    "from sklearn.ensemble import RandomForestRegressor\n",
    "\n",
    "rf = RandomForestRegressor(max_depth=6,n_estimators = 200,criterion = 'friedman_mse' )\n",
    "rf.fit(train_X, train_y)\n",
    "\n",
    "RF_predict_train = rf.predict(train_X) \n",
    "RF_predict_test = rf.predict(test_X) "
   ]
  },
  {
   "cell_type": "code",
   "execution_count": 255,
   "id": "d519f420",
   "metadata": {
    "scrolled": true
   },
   "outputs": [
    {
     "name": "stdout",
     "output_type": "stream",
     "text": [
      "Pearson關係數: [[1.         0.91026618]\n",
      " [0.91026618 1.        ]]\n"
     ]
    }
   ],
   "source": [
    "train_result(RF_predict_train,\"Random Forest\")\n"
   ]
  },
  {
   "cell_type": "code",
   "execution_count": 256,
   "id": "ee784c1f",
   "metadata": {
    "scrolled": true
   },
   "outputs": [
    {
     "name": "stdout",
     "output_type": "stream",
     "text": [
      "Pearson關係數: [[1.         0.83577169]\n",
      " [0.83577169 1.        ]]\n"
     ]
    }
   ],
   "source": [
    "test_result(RF_predict_test,\"Random Forest\")"
   ]
  },
  {
   "cell_type": "code",
   "execution_count": 257,
   "id": "e3a5a13a",
   "metadata": {
    "scrolled": true
   },
   "outputs": [
    {
     "data": {
      "image/png": "[encoded data removed]",
      "text/plain": [
       "<Figure size 432x288 with 1 Axes>"
      ]
     },
     "metadata": {
      "needs_background": "light"
     },
     "output_type": "display_data"
    },
    {
     "data": {
      "image/png": "[encoded data removed]",
      "text/plain": [
       "<Figure size 432x288 with 1 Axes>"
      ]
     },
     "metadata": {
      "needs_background": "light"
     },
     "output_type": "display_data"
    }
   ],
   "source": [
    "train_plot(RF_predict_train,\"Random Forest\")\n",
    "test_plot(RF_predict_test,\"Random Forest\")"
   ]
  },
  {
   "cell_type": "code",
   "execution_count": 258,
   "id": "508f5d24",
   "metadata": {
    "scrolled": true
   },
   "outputs": [
    {
     "data": {
      "image/png": "[encoded data removed]",
      "text/plain": [
       "<Figure size 432x288 with 1 Axes>"
      ]
     },
     "metadata": {
      "needs_background": "light"
     },
     "output_type": "display_data"
    },
    {
     "name": "stdout",
     "output_type": "stream",
     "text": [
      "[[18.87576293]\n",
      " [23.98840253]\n",
      " [19.99658725]\n",
      " [19.15698175]\n",
      " [16.69789042]\n",
      " [16.80915075]\n",
      " [17.94190214]\n",
      " [16.84300259]\n",
      " [15.84570827]\n",
      " [16.7880686 ]]\n",
      "[[19.61]\n",
      " [24.7 ]\n",
      " [20.66]\n",
      " [20.89]\n",
      " [15.66]\n",
      " [17.04]\n",
      " [18.06]\n",
      " [15.54]\n",
      " [14.74]\n",
      " [16.02]]\n"
     ]
    },
    {
     "data": {
      "text/html": [
       "<div>\n",
       "<style scoped>\n",
       "    .dataframe tbody tr th:only-of-type {\n",
       "        vertical-align: middle;\n",
       "    }\n",
       "\n",
       "    .dataframe tbody tr th {\n",
       "        vertical-align: top;\n",
       "    }\n",
       "\n",
       "    .dataframe thead th {\n",
       "        text-align: right;\n",
       "    }\n",
       "</style>\n",
       "<table border=\"1\" class=\"dataframe\">\n",
       "  <thead>\n",
       "    <tr style=\"text-align: right;\">\n",
       "      <th></th>\n",
       "      <th>Model name</th>\n",
       "      <th>dataset</th>\n",
       "      <th>MSE</th>\n",
       "      <th>RMSE</th>\n",
       "      <th>MAE</th>\n",
       "      <th>MAPE</th>\n",
       "      <th>R-squared</th>\n",
       "    </tr>\n",
       "  </thead>\n",
       "  <tbody>\n",
       "    <tr>\n",
       "      <th>0</th>\n",
       "      <td>SVR (RBF)</td>\n",
       "      <td>train</td>\n",
       "      <td>0.02</td>\n",
       "      <td>0.13</td>\n",
       "      <td>0.09</td>\n",
       "      <td>0.0</td>\n",
       "      <td>1.0</td>\n",
       "    </tr>\n",
       "    <tr>\n",
       "      <th>1</th>\n",
       "      <td>MLP</td>\n",
       "      <td>train</td>\n",
       "      <td>1.55</td>\n",
       "      <td>1.24</td>\n",
       "      <td>1.04</td>\n",
       "      <td>0.09</td>\n",
       "      <td>0.83</td>\n",
       "    </tr>\n",
       "    <tr>\n",
       "      <th>2</th>\n",
       "      <td>Random Forest</td>\n",
       "      <td>train</td>\n",
       "      <td>0.91</td>\n",
       "      <td>0.96</td>\n",
       "      <td>0.84</td>\n",
       "      <td>0.05</td>\n",
       "      <td>0.9</td>\n",
       "    </tr>\n",
       "  </tbody>\n",
       "</table>\n",
       "</div>"
      ],
      "text/plain": [
       "      Model name dataset   MSE  RMSE   MAE  MAPE R-squared\n",
       "0      SVR (RBF)   train  0.02  0.13  0.09   0.0       1.0\n",
       "1            MLP   train  1.55  1.24  1.04  0.09      0.83\n",
       "2  Random Forest   train  0.91  0.96  0.84  0.05       0.9"
      ]
     },
     "execution_count": 258,
     "metadata": {},
     "output_type": "execute_result"
    }
   ],
   "source": [
    "average_train_plot(RF_predict_train,\"Random Forest\")\n"
   ]
  },
  {
   "cell_type": "code",
   "execution_count": 259,
   "id": "55c22c2e",
   "metadata": {
    "scrolled": true
   },
   "outputs": [
    {
     "data": {
      "image/png": "[encoded data removed]",
      "text/plain": [
       "<Figure size 432x288 with 1 Axes>"
      ]
     },
     "metadata": {
      "needs_background": "light"
     },
     "output_type": "display_data"
    },
    {
     "name": "stdout",
     "output_type": "stream",
     "text": [
      "[[18.4052765 ]\n",
      " [23.08078447]\n",
      " [20.07299953]\n",
      " [19.00566865]\n",
      " [16.92209093]\n",
      " [16.8566305 ]\n",
      " [17.92580447]\n",
      " [17.00104716]\n",
      " [15.84207141]\n",
      " [16.85730396]]\n",
      "[[19.61]\n",
      " [24.7 ]\n",
      " [20.66]\n",
      " [20.89]\n",
      " [15.66]\n",
      " [17.04]\n",
      " [18.06]\n",
      " [15.54]\n",
      " [14.74]\n",
      " [16.02]]\n"
     ]
    },
    {
     "data": {
      "text/html": [
       "<div>\n",
       "<style scoped>\n",
       "    .dataframe tbody tr th:only-of-type {\n",
       "        vertical-align: middle;\n",
       "    }\n",
       "\n",
       "    .dataframe tbody tr th {\n",
       "        vertical-align: top;\n",
       "    }\n",
       "\n",
       "    .dataframe thead th {\n",
       "        text-align: right;\n",
       "    }\n",
       "</style>\n",
       "<table border=\"1\" class=\"dataframe\">\n",
       "  <thead>\n",
       "    <tr style=\"text-align: right;\">\n",
       "      <th></th>\n",
       "      <th>Model name</th>\n",
       "      <th>dataset</th>\n",
       "      <th>MSE</th>\n",
       "      <th>RMSE</th>\n",
       "      <th>MAE</th>\n",
       "      <th>MAPE</th>\n",
       "      <th>R-squared</th>\n",
       "    </tr>\n",
       "  </thead>\n",
       "  <tbody>\n",
       "    <tr>\n",
       "      <th>0</th>\n",
       "      <td>SVR (RBF)</td>\n",
       "      <td>test</td>\n",
       "      <td>1.35</td>\n",
       "      <td>1.16</td>\n",
       "      <td>0.97</td>\n",
       "      <td>0.08</td>\n",
       "      <td>0.85</td>\n",
       "    </tr>\n",
       "    <tr>\n",
       "      <th>1</th>\n",
       "      <td>MLP</td>\n",
       "      <td>test</td>\n",
       "      <td>1.8</td>\n",
       "      <td>1.34</td>\n",
       "      <td>1.09</td>\n",
       "      <td>0.1</td>\n",
       "      <td>0.8</td>\n",
       "    </tr>\n",
       "    <tr>\n",
       "      <th>2</th>\n",
       "      <td>Random Forest</td>\n",
       "      <td>test</td>\n",
       "      <td>1.37</td>\n",
       "      <td>1.17</td>\n",
       "      <td>1.03</td>\n",
       "      <td>0.07</td>\n",
       "      <td>0.85</td>\n",
       "    </tr>\n",
       "  </tbody>\n",
       "</table>\n",
       "</div>"
      ],
      "text/plain": [
       "      Model name dataset   MSE  RMSE   MAE  MAPE R-squared\n",
       "0      SVR (RBF)    test  1.35  1.16  0.97  0.08      0.85\n",
       "1            MLP    test   1.8  1.34  1.09   0.1       0.8\n",
       "2  Random Forest    test  1.37  1.17  1.03  0.07      0.85"
      ]
     },
     "execution_count": 259,
     "metadata": {},
     "output_type": "execute_result"
    }
   ],
   "source": [
    "average_test_plot(RF_predict_test,\"Random Forest\")"
   ]
  },
  {
   "cell_type": "markdown",
   "id": "d63f6f86",
   "metadata": {},
   "source": [
    "### Gradient Boost"
   ]
  },
  {
   "cell_type": "code",
   "execution_count": 260,
   "id": "e63774df",
   "metadata": {
    "scrolled": true
   },
   "outputs": [],
   "source": [
    "from sklearn.ensemble import GradientBoostingRegressor\n",
    "GB = GradientBoostingRegressor(random_state=0,loss = 'huber',n_estimators=250)\n",
    "GB.fit(train_X, train_y)\n",
    "\n",
    "GB_predict_train = GB.predict(train_X) \n",
    "GB_predict_test = GB.predict(test_X) "
   ]
  },
  {
   "cell_type": "code",
   "execution_count": 261,
   "id": "8184b794",
   "metadata": {
    "scrolled": true
   },
   "outputs": [
    {
     "name": "stdout",
     "output_type": "stream",
     "text": [
      "Pearson關係數: [[1.        0.9696732]\n",
      " [0.9696732 1.       ]]\n"
     ]
    }
   ],
   "source": [
    "train_result(GB_predict_train,\"Gradient Boost\")\n"
   ]
  },
  {
   "cell_type": "code",
   "execution_count": 262,
   "id": "836f6518",
   "metadata": {
    "scrolled": true
   },
   "outputs": [
    {
     "name": "stdout",
     "output_type": "stream",
     "text": [
      "Pearson關係數: [[1.         0.87243898]\n",
      " [0.87243898 1.        ]]\n"
     ]
    }
   ],
   "source": [
    "test_result(GB_predict_test,\"Gradient Boost\")"
   ]
  },
  {
   "cell_type": "code",
   "execution_count": 263,
   "id": "f7136995",
   "metadata": {
    "scrolled": true
   },
   "outputs": [
    {
     "data": {
      "image/png": "[encoded data removed]",
      "text/plain": [
       "<Figure size 432x288 with 1 Axes>"
      ]
     },
     "metadata": {
      "needs_background": "light"
     },
     "output_type": "display_data"
    },
    {
     "data": {
      "image/png": "[encoded data removed]",
      "text/plain": [
       "<Figure size 432x288 with 1 Axes>"
      ]
     },
     "metadata": {
      "needs_background": "light"
     },
     "output_type": "display_data"
    }
   ],
   "source": [
    "train_plot(GB_predict_train,\"Gradient Boost\")\n",
    "test_plot(GB_predict_test,\"Gradient Boost\")"
   ]
  },
  {
   "cell_type": "code",
   "execution_count": 264,
   "id": "d4ffdd22",
   "metadata": {
    "scrolled": true
   },
   "outputs": [
    {
     "data": {
      "image/png": "[encoded data removed]",
      "text/plain": [
       "<Figure size 432x288 with 1 Axes>"
      ]
     },
     "metadata": {
      "needs_background": "light"
     },
     "output_type": "display_data"
    },
    {
     "name": "stdout",
     "output_type": "stream",
     "text": [
      "[[19.34590907]\n",
      " [24.36715783]\n",
      " [20.40615137]\n",
      " [20.13300234]\n",
      " [16.07991419]\n",
      " [16.98105433]\n",
      " [18.07894748]\n",
      " [15.98425397]\n",
      " [15.08591425]\n",
      " [16.26833667]]\n",
      "[[19.61]\n",
      " [24.7 ]\n",
      " [20.66]\n",
      " [20.89]\n",
      " [15.66]\n",
      " [17.04]\n",
      " [18.06]\n",
      " [15.54]\n",
      " [14.74]\n",
      " [16.02]]\n"
     ]
    },
    {
     "data": {
      "text/html": [
       "<div>\n",
       "<style scoped>\n",
       "    .dataframe tbody tr th:only-of-type {\n",
       "        vertical-align: middle;\n",
       "    }\n",
       "\n",
       "    .dataframe tbody tr th {\n",
       "        vertical-align: top;\n",
       "    }\n",
       "\n",
       "    .dataframe thead th {\n",
       "        text-align: right;\n",
       "    }\n",
       "</style>\n",
       "<table border=\"1\" class=\"dataframe\">\n",
       "  <thead>\n",
       "    <tr style=\"text-align: right;\">\n",
       "      <th></th>\n",
       "      <th>Model name</th>\n",
       "      <th>dataset</th>\n",
       "      <th>MSE</th>\n",
       "      <th>RMSE</th>\n",
       "      <th>MAE</th>\n",
       "      <th>MAPE</th>\n",
       "      <th>R-squared</th>\n",
       "    </tr>\n",
       "  </thead>\n",
       "  <tbody>\n",
       "    <tr>\n",
       "      <th>0</th>\n",
       "      <td>SVR (RBF)</td>\n",
       "      <td>train</td>\n",
       "      <td>0.02</td>\n",
       "      <td>0.13</td>\n",
       "      <td>0.09</td>\n",
       "      <td>0.0</td>\n",
       "      <td>1.0</td>\n",
       "    </tr>\n",
       "    <tr>\n",
       "      <th>1</th>\n",
       "      <td>MLP</td>\n",
       "      <td>train</td>\n",
       "      <td>1.55</td>\n",
       "      <td>1.24</td>\n",
       "      <td>1.04</td>\n",
       "      <td>0.09</td>\n",
       "      <td>0.83</td>\n",
       "    </tr>\n",
       "    <tr>\n",
       "      <th>2</th>\n",
       "      <td>Random Forest</td>\n",
       "      <td>train</td>\n",
       "      <td>0.91</td>\n",
       "      <td>0.96</td>\n",
       "      <td>0.84</td>\n",
       "      <td>0.05</td>\n",
       "      <td>0.9</td>\n",
       "    </tr>\n",
       "    <tr>\n",
       "      <th>3</th>\n",
       "      <td>Gradient Boost</td>\n",
       "      <td>train</td>\n",
       "      <td>0.14</td>\n",
       "      <td>0.37</td>\n",
       "      <td>0.31</td>\n",
       "      <td>0.01</td>\n",
       "      <td>0.98</td>\n",
       "    </tr>\n",
       "  </tbody>\n",
       "</table>\n",
       "</div>"
      ],
      "text/plain": [
       "       Model name dataset   MSE  RMSE   MAE  MAPE R-squared\n",
       "0       SVR (RBF)   train  0.02  0.13  0.09   0.0       1.0\n",
       "1             MLP   train  1.55  1.24  1.04  0.09      0.83\n",
       "2   Random Forest   train  0.91  0.96  0.84  0.05       0.9\n",
       "3  Gradient Boost   train  0.14  0.37  0.31  0.01      0.98"
      ]
     },
     "execution_count": 264,
     "metadata": {},
     "output_type": "execute_result"
    }
   ],
   "source": [
    "average_train_plot(GB_predict_train,\"Gradient Boost\")\n"
   ]
  },
  {
   "cell_type": "code",
   "execution_count": 265,
   "id": "9e49fd2b",
   "metadata": {},
   "outputs": [
    {
     "data": {
      "image/png": "[encoded data removed]",
      "text/plain": [
       "<Figure size 432x288 with 1 Axes>"
      ]
     },
     "metadata": {
      "needs_background": "light"
     },
     "output_type": "display_data"
    },
    {
     "name": "stdout",
     "output_type": "stream",
     "text": [
      "[[18.83284894]\n",
      " [23.22096664]\n",
      " [20.28895886]\n",
      " [19.69853646]\n",
      " [16.18584099]\n",
      " [16.9606607 ]\n",
      " [17.99880495]\n",
      " [16.58043857]\n",
      " [15.43502918]\n",
      " [16.45816136]]\n",
      "[[19.61]\n",
      " [24.7 ]\n",
      " [20.66]\n",
      " [20.89]\n",
      " [15.66]\n",
      " [17.04]\n",
      " [18.06]\n",
      " [15.54]\n",
      " [14.74]\n",
      " [16.02]]\n"
     ]
    },
    {
     "data": {
      "text/html": [
       "<div>\n",
       "<style scoped>\n",
       "    .dataframe tbody tr th:only-of-type {\n",
       "        vertical-align: middle;\n",
       "    }\n",
       "\n",
       "    .dataframe tbody tr th {\n",
       "        vertical-align: top;\n",
       "    }\n",
       "\n",
       "    .dataframe thead th {\n",
       "        text-align: right;\n",
       "    }\n",
       "</style>\n",
       "<table border=\"1\" class=\"dataframe\">\n",
       "  <thead>\n",
       "    <tr style=\"text-align: right;\">\n",
       "      <th></th>\n",
       "      <th>Model name</th>\n",
       "      <th>dataset</th>\n",
       "      <th>MSE</th>\n",
       "      <th>RMSE</th>\n",
       "      <th>MAE</th>\n",
       "      <th>MAPE</th>\n",
       "      <th>R-squared</th>\n",
       "    </tr>\n",
       "  </thead>\n",
       "  <tbody>\n",
       "    <tr>\n",
       "      <th>0</th>\n",
       "      <td>SVR (RBF)</td>\n",
       "      <td>test</td>\n",
       "      <td>1.35</td>\n",
       "      <td>1.16</td>\n",
       "      <td>0.97</td>\n",
       "      <td>0.08</td>\n",
       "      <td>0.85</td>\n",
       "    </tr>\n",
       "    <tr>\n",
       "      <th>1</th>\n",
       "      <td>MLP</td>\n",
       "      <td>test</td>\n",
       "      <td>1.8</td>\n",
       "      <td>1.34</td>\n",
       "      <td>1.09</td>\n",
       "      <td>0.1</td>\n",
       "      <td>0.8</td>\n",
       "    </tr>\n",
       "    <tr>\n",
       "      <th>2</th>\n",
       "      <td>Random Forest</td>\n",
       "      <td>test</td>\n",
       "      <td>1.37</td>\n",
       "      <td>1.17</td>\n",
       "      <td>1.03</td>\n",
       "      <td>0.07</td>\n",
       "      <td>0.85</td>\n",
       "    </tr>\n",
       "    <tr>\n",
       "      <th>3</th>\n",
       "      <td>Gradient Boost</td>\n",
       "      <td>test</td>\n",
       "      <td>0.64</td>\n",
       "      <td>0.8</td>\n",
       "      <td>0.67</td>\n",
       "      <td>0.03</td>\n",
       "      <td>0.93</td>\n",
       "    </tr>\n",
       "  </tbody>\n",
       "</table>\n",
       "</div>"
      ],
      "text/plain": [
       "       Model name dataset   MSE  RMSE   MAE  MAPE R-squared\n",
       "0       SVR (RBF)    test  1.35  1.16  0.97  0.08      0.85\n",
       "1             MLP    test   1.8  1.34  1.09   0.1       0.8\n",
       "2   Random Forest    test  1.37  1.17  1.03  0.07      0.85\n",
       "3  Gradient Boost    test  0.64   0.8  0.67  0.03      0.93"
      ]
     },
     "execution_count": 265,
     "metadata": {},
     "output_type": "execute_result"
    }
   ],
   "source": [
    "average_test_plot(GB_predict_test,\"Gradient Boost\")"
   ]
  },
  {
   "cell_type": "markdown",
   "id": "9264c748",
   "metadata": {},
   "source": [
    "### 結果儲存"
   ]
  },
  {
   "cell_type": "code",
   "execution_count": 266,
   "id": "03e2b30d",
   "metadata": {
    "scrolled": true
   },
   "outputs": [],
   "source": [
    "\n",
    "final_df = pd.concat([train_df,test_df],axis=0,ignore_index=True)\n",
    "\n",
    "if not os.path.isdir(path+'\\\\迴歸結果\\\\'):\n",
    "    os.makedirs(path+'\\\\迴歸結果\\\\')\n",
    "\n",
    "train_df.to_csv(path_or_buf=path+'\\\\迴歸結果\\\\Train結果(1.5s).csv')\n",
    "test_df.to_csv(path_or_buf=path+'\\\\迴歸結果\\\\Test結果(1.5s).csv')\n",
    "final_df.to_csv(path_or_buf=path+'\\\\迴歸結果\\\\全部結果(1.5s).csv')\n"
   ]
  },
  {
   "cell_type": "code",
   "execution_count": null,
   "id": "a67e8278",
   "metadata": {
    "scrolled": true
   },
   "outputs": [],
   "source": []
  },
  {
   "cell_type": "code",
   "execution_count": null,
   "id": "104755a2",
   "metadata": {
    "scrolled": true
   },
   "outputs": [],
   "source": []
  },
  {
   "cell_type": "code",
   "execution_count": null,
   "id": "ef0d90cf",
   "metadata": {},
   "outputs": [],
   "source": []
  }
 ],
 "metadata": {
  "kernelspec": {
   "display_name": "Python 3 (ipykernel)",
   "language": "python",
   "name": "python3"
  },
  "language_info": {
   "codemirror_mode": {
    "name": "ipython",
    "version": 3
   },
   "file_extension": ".py",
   "mimetype": "text/x-python",
   "name": "python",
   "nbconvert_exporter": "python",
   "pygments_lexer": "ipython3",
   "version": "3.9.12"
  }
 },
 "nbformat": 4,
 "nbformat_minor": 5
}
